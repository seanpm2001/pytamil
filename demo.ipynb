{
 "cells": [
  {
   "cell_type": "code",
   "execution_count": 2,
   "metadata": {},
   "outputs": [],
   "source": [
    "import sys\n",
    "\n",
    "\n",
    "\n",
    "import pytamil\n",
    "from pytamil import தமிழ்\n",
    "\n",
    "from pytamil.தமிழ் import எழுத்து\n",
    "from pytamil.தமிழ்  import மாத்திரை\n",
    "import os\n",
    "\n"
   ]
  },
  {
   "cell_type": "code",
   "execution_count": 3,
   "metadata": {},
   "outputs": [
    {
     "name": "stdout",
     "output_type": "stream",
     "text": [
      "ம்உத்அற்ற்ஏ\n"
     ]
    }
   ],
   "source": [
    "print( எழுத்து.உயிர்மெய்விரி(\"முதற்றே\"))\n",
    "\n"
   ]
  },
  {
   "cell_type": "code",
   "execution_count": 6,
   "metadata": {},
   "outputs": [
    {
     "name": "stdout",
     "output_type": "stream",
     "text": [
      "<pytamil.தமிழ்.மாத்திரை.விவரம் object at 0x7f9395747c10>\n",
      "<pytamil.தமிழ்.மாத்திரை.விவரம் object at 0x7f9395747ac0>\n",
      "<pytamil.தமிழ்.மாத்திரை.விவரம் object at 0x7f93957458a0>\n",
      "<pytamil.தமிழ்.மாத்திரை.விவரம் object at 0x7f9395745930>\n"
     ]
    }
   ],
   "source": [
    "மாத்திரைவரிசை = மாத்திரை.மாத்திரைவரிசை_கொடு(\"முதற்றே\")\n",
    "for மாத்திரை in மாத்திரைவரிசை:\n",
    "    print(மாத்திரை)\n"
   ]
  },
  {
   "cell_type": "code",
   "execution_count": 5,
   "metadata": {},
   "outputs": [
    {
     "ename": "ModuleNotFoundError",
     "evalue": "No module named 'tabulate'",
     "output_type": "error",
     "traceback": [
      "\u001b[0;31m---------------------------------------------------------------------------\u001b[0m",
      "\u001b[0;31mModuleNotFoundError\u001b[0m                       Traceback (most recent call last)",
      "Cell \u001b[0;32mIn[5], line 1\u001b[0m\n\u001b[0;32m----> 1\u001b[0m \u001b[38;5;28;01mimport\u001b[39;00m \u001b[38;5;21;01mtabulate\u001b[39;00m\n\u001b[1;32m      2\u001b[0m data \u001b[38;5;241m=\u001b[39m [[\u001b[38;5;124m\"\u001b[39m\u001b[38;5;124mSun\u001b[39m\u001b[38;5;124m\"\u001b[39m,\u001b[38;5;241m696000\u001b[39m,\u001b[38;5;241m1989100000\u001b[39m],\n\u001b[1;32m      3\u001b[0m          [\u001b[38;5;124m\"\u001b[39m\u001b[38;5;124mEarth\u001b[39m\u001b[38;5;124m\"\u001b[39m,\u001b[38;5;241m6371\u001b[39m,\u001b[38;5;241m5973.6\u001b[39m],\n\u001b[1;32m      4\u001b[0m          [\u001b[38;5;124m\"\u001b[39m\u001b[38;5;124mMoon\u001b[39m\u001b[38;5;124m\"\u001b[39m,\u001b[38;5;241m1737\u001b[39m,\u001b[38;5;241m73.5\u001b[39m],\n\u001b[1;32m      5\u001b[0m          [\u001b[38;5;124m\"\u001b[39m\u001b[38;5;124mMars\u001b[39m\u001b[38;5;124m\"\u001b[39m,\u001b[38;5;241m3390\u001b[39m,\u001b[38;5;241m641.85\u001b[39m]]\n\u001b[1;32m      6\u001b[0m table \u001b[38;5;241m=\u001b[39m tabulate\u001b[38;5;241m.\u001b[39mtabulate(data, tablefmt\u001b[38;5;241m=\u001b[39m\u001b[38;5;124m'\u001b[39m\u001b[38;5;124mhtml\u001b[39m\u001b[38;5;124m'\u001b[39m)\n",
      "\u001b[0;31mModuleNotFoundError\u001b[0m: No module named 'tabulate'"
     ]
    }
   ],
   "source": [
    "import tabulate\n",
    "data = [[\"Sun\",696000,1989100000],\n",
    "         [\"Earth\",6371,5973.6],\n",
    "         [\"Moon\",1737,73.5],\n",
    "         [\"Mars\",3390,641.85]]\n",
    "table = tabulate.tabulate(data, tablefmt='html')\n",
    "table"
   ]
  },
  {
   "cell_type": "code",
   "execution_count": 8,
   "metadata": {},
   "outputs": [
    {
     "ename": "NameError",
     "evalue": "name 'புணர்ச்சி' is not defined",
     "output_type": "error",
     "traceback": [
      "\u001b[0;31m---------------------------------------------------------------------------\u001b[0m",
      "\u001b[0;31mNameError\u001b[0m                                 Traceback (most recent call last)",
      "Cell \u001b[0;32mIn[8], line 1\u001b[0m\n\u001b[0;32m----> 1\u001b[0m \u001b[43mபுணர்ச்சி\u001b[49m\u001b[38;5;241m.\u001b[39mதொடர்மொழி_ஆக்கு( \u001b[38;5;124m'\u001b[39m\u001b[38;5;124mமணி\u001b[39m\u001b[38;5;124m'\u001b[39m , \u001b[38;5;124m'\u001b[39m\u001b[38;5;124mஅடித்தான்\u001b[39m\u001b[38;5;124m'\u001b[39m)\n",
      "\u001b[0;31mNameError\u001b[0m: name 'புணர்ச்சி' is not defined"
     ]
    }
   ],
   "source": [
    "புணர்ச்சி.தொடர்மொழி_ஆக்கு( 'மணி' , 'அடித்தான்')"
   ]
  },
  {
   "cell_type": "code",
   "execution_count": null,
   "metadata": {},
   "outputs": [],
   "source": []
  }
 ],
 "metadata": {
  "kernelspec": {
   "display_name": "Python 3 (ipykernel)",
   "language": "python",
   "name": "python3"
  },
  "language_info": {
   "codemirror_mode": {
    "name": "ipython",
    "version": 3
   },
   "file_extension": ".py",
   "mimetype": "text/x-python",
   "name": "python",
   "nbconvert_exporter": "python",
   "pygments_lexer": "ipython3",
   "version": "3.10.7"
  }
 },
 "nbformat": 4,
 "nbformat_minor": 4
}
